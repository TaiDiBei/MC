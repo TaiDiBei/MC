{
 "cells": [
  {
   "cell_type": "markdown",
   "id": "e04c6a97-acc7-4617-9fe2-4b1fda49ea1f",
   "metadata": {},
   "source": [
    "# 一.导入必要的库"
   ]
  },
  {
   "cell_type": "code",
   "execution_count": 7,
   "id": "967b36d4-df97-4c4e-a8a1-e50bfc3191a1",
   "metadata": {
    "tags": []
   },
   "outputs": [],
   "source": [
    "import numpy as np\n",
    "import cv2\n",
    "import matplotlib.pyplot as plt\n",
    "import tensorflow as tf\n",
    "from tensorflow.keras.layers import Conv2D, MaxPooling2D, UpSampling2D\n",
    "from tensorflow.keras.models import Sequential"
   ]
  },
  {
   "cell_type": "markdown",
   "id": "b82dd1b6-6e90-49be-b4cc-bac048a87715",
   "metadata": {},
   "source": [
    "# 二.加载训练数据集"
   ]
  },
  {
   "cell_type": "code",
   "execution_count": 10,
   "id": "cd24940e-d297-4490-920b-a49aef052587",
   "metadata": {},
   "outputs": [],
   "source": [
    "train_data = np.load(\"./Datasets/2_Train/train_data.npy\")\n",
    "train_labels = np.load(\"./Datasets/2_Train/train_labels.npy\", allow_pickle=True)"
   ]
  },
  {
   "cell_type": "markdown",
   "id": "e8bdca04-ac43-422b-9408-2a20b67ed685",
   "metadata": {},
   "source": [
    "# 三.数据预处理"
   ]
  },
  {
   "cell_type": "code",
   "execution_count": 14,
   "id": "43b9bafa-c789-416c-bbb6-4598bf27ee56",
   "metadata": {},
   "outputs": [
    {
     "ename": "ValueError",
     "evalue": "cannot reshape array of size 1222311936 into shape (400,400,4)",
     "output_type": "error",
     "traceback": [
      "\u001b[1;31m---------------------------------------------------------------------------\u001b[0m",
      "\u001b[1;31mValueError\u001b[0m                                Traceback (most recent call last)",
      "Cell \u001b[1;32mIn[14], line 1\u001b[0m\n\u001b[1;32m----> 1\u001b[0m train_data \u001b[38;5;241m=\u001b[39m train_data\u001b[38;5;241m.\u001b[39mreshape(\u001b[38;5;241m-\u001b[39m\u001b[38;5;241m1\u001b[39m, \u001b[38;5;241m400\u001b[39m, \u001b[38;5;241m400\u001b[39m, \u001b[38;5;241m4\u001b[39m)\n\u001b[0;32m      2\u001b[0m train_data \u001b[38;5;241m=\u001b[39m train_data\u001b[38;5;241m.\u001b[39mastype(\u001b[38;5;124m'\u001b[39m\u001b[38;5;124mfloat32\u001b[39m\u001b[38;5;124m'\u001b[39m) \u001b[38;5;241m/\u001b[39m \u001b[38;5;241m255.\u001b[39m\n\u001b[0;32m      3\u001b[0m train_labels \u001b[38;5;241m=\u001b[39m train_labels\u001b[38;5;241m.\u001b[39mreshape(\u001b[38;5;241m-\u001b[39m\u001b[38;5;241m1\u001b[39m, \u001b[38;5;241m400\u001b[39m, \u001b[38;5;241m400\u001b[39m, \u001b[38;5;241m4\u001b[39m)\n",
      "\u001b[1;31mValueError\u001b[0m: cannot reshape array of size 1222311936 into shape (400,400,4)"
     ]
    }
   ],
   "source": [
    "train_data = train_data.reshape(-1, 400, 400, 4)\n",
    "train_data = train_data.astype('float32') / 255.\n",
    "train_labels = train_labels.reshape(-1, 400, 400, 4)\n",
    "train_labels = train_labels.astype('float32') / 255."
   ]
  },
  {
   "cell_type": "markdown",
   "id": "81bdeb11-a681-4458-9cee-157d4747cf33",
   "metadata": {
    "tags": []
   },
   "source": [
    "# 四.定义卷积神经网络模型"
   ]
  },
  {
   "cell_type": "code",
   "execution_count": 12,
   "id": "09d75c41-ef84-441d-97f8-9c1e849706a0",
   "metadata": {},
   "outputs": [
    {
     "name": "stderr",
     "output_type": "stream",
     "text": [
      "C:\\Users\\dell\\AppData\\Roaming\\Python\\Python311\\site-packages\\keras\\src\\layers\\convolutional\\base_conv.py:99: UserWarning: Do not pass an `input_shape`/`input_dim` argument to a layer. When using Sequential models, prefer using an `Input(shape)` object as the first layer in the model instead.\n",
      "  super().__init__(\n"
     ]
    }
   ],
   "source": [
    "model = Sequential()\n",
    "model.add(Conv2D(64, 3, activation='relu', padding='same', input_shape=(100, 100, 1)))\n",
    "model.add(MaxPooling2D(2))\n",
    "model.add(Conv2D(128, 3, activation='relu', padding='same'))\n",
    "model.add(MaxPooling2D(2))\n",
    "model.add(Conv2D(256, 3, activation='relu', padding='same'))\n",
    "model.add(UpSampling2D(2))\n",
    "model.add(Conv2D(128, 3, activation='relu', padding='same'))\n",
    "model.add(UpSampling2D(2))\n",
    "model.add(Conv2D(64, 3, activation='relu', padding='same'))\n",
    "model.add(Conv2D(1, 3, activation='sigmoid', padding='same'))"
   ]
  },
  {
   "cell_type": "markdown",
   "id": "9be5d4a0-ed1f-4a37-a6d8-49f35e499df2",
   "metadata": {},
   "source": [
    "# 五.编译模型"
   ]
  },
  {
   "cell_type": "code",
   "execution_count": null,
   "id": "452bec5b-ee9f-4b6a-9770-c3b1c8f42bff",
   "metadata": {},
   "outputs": [],
   "source": [
    "model.compile(optimizer='adam', loss='binary_crossentropy')"
   ]
  },
  {
   "cell_type": "markdown",
   "id": "091dba8c-184d-4e16-905a-45ae5bd2aaac",
   "metadata": {},
   "source": [
    "# 六.训练模型"
   ]
  },
  {
   "cell_type": "code",
   "execution_count": null,
   "id": "7cb45f52-269a-4667-b246-1aef31fbd5cd",
   "metadata": {},
   "outputs": [],
   "source": [
    "model.fit(train_data, train_labels, epochs=10, batch_size=32)"
   ]
  },
  {
   "cell_type": "markdown",
   "id": "e8a321af-435c-4973-a617-258a4ce42bab",
   "metadata": {},
   "source": [
    "# 七.加载测试数据集"
   ]
  },
  {
   "cell_type": "code",
   "execution_count": null,
   "id": "c19085d7-d808-4543-8a92-140b28db1651",
   "metadata": {},
   "outputs": [],
   "source": [
    "test_data = np.load(\"test_data.npy\")"
   ]
  },
  {
   "cell_type": "markdown",
   "id": "bcaf4d20-4cef-4aa8-99a7-34afc2a5dca5",
   "metadata": {},
   "source": [
    "# 八.数据预处理"
   ]
  },
  {
   "cell_type": "code",
   "execution_count": null,
   "id": "e5896be5-c1e8-4c3d-82c3-69670629e845",
   "metadata": {},
   "outputs": [],
   "source": [
    "test_data = test_data.reshape(-1, 100, 100, 1)\n",
    "test_data = test_data.astype('float32') / 255."
   ]
  },
  {
   "cell_type": "markdown",
   "id": "b24d87a0-a19e-4fc6-aaa8-4acfb7f3e5d1",
   "metadata": {},
   "source": [
    "# 九.对测试数据进行预测"
   ]
  },
  {
   "cell_type": "code",
   "execution_count": null,
   "id": "822f06cf-e03c-43e0-90e3-0261e4b90633",
   "metadata": {},
   "outputs": [],
   "source": [
    "prediction = model.predict(test_data)"
   ]
  },
  {
   "cell_type": "markdown",
   "id": "80af176f-d0da-4806-8272-63de330ae956",
   "metadata": {},
   "source": [
    "# 十.显示测试结果"
   ]
  },
  {
   "cell_type": "code",
   "execution_count": null,
   "id": "eeecca0a-6ec4-4094-a75f-ccb0a858bcd0",
   "metadata": {},
   "outputs": [],
   "source": [
    "plt.imshow(prediction[0].reshape(100, 100))\n",
    "plt.show()"
   ]
  }
 ],
 "metadata": {
  "kernelspec": {
   "display_name": "Python 3 (ipykernel)",
   "language": "python",
   "name": "python3"
  },
  "language_info": {
   "codemirror_mode": {
    "name": "ipython",
    "version": 3
   },
   "file_extension": ".py",
   "mimetype": "text/x-python",
   "name": "python",
   "nbconvert_exporter": "python",
   "pygments_lexer": "ipython3",
   "version": "3.11.5"
  }
 },
 "nbformat": 4,
 "nbformat_minor": 5
}
