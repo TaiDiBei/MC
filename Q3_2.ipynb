{
 "cells": [
  {
   "cell_type": "code",
   "execution_count": 2,
   "id": "bba4e70d-950c-472b-b2c2-33ed905d9c70",
   "metadata": {
    "tags": []
   },
   "outputs": [
    {
     "ename": "NameError",
     "evalue": "name 'load_data' is not defined",
     "output_type": "error",
     "traceback": [
      "\u001b[1;31m---------------------------------------------------------------------------\u001b[0m",
      "\u001b[1;31mNameError\u001b[0m                                 Traceback (most recent call last)",
      "Cell \u001b[1;32mIn[2], line 2\u001b[0m\n\u001b[0;32m      1\u001b[0m \u001b[38;5;66;03m# 加载数据\u001b[39;00m\n\u001b[1;32m----> 2\u001b[0m train_data, train_label, test_data, test_filenames \u001b[38;5;241m=\u001b[39m load_data(\u001b[38;5;124m'\u001b[39m\u001b[38;5;124m./Datasets/4_Recognize\u001b[39m\u001b[38;5;124m'\u001b[39m)\n",
      "\u001b[1;31mNameError\u001b[0m: name 'load_data' is not defined"
     ]
    }
   ],
   "source": [
    "# 加载数据\n",
    "train_data, train_label, test_data, test_filenames = load_data('./Datasets/4_Recognize')"
   ]
  },
  {
   "cell_type": "code",
   "execution_count": null,
   "id": "4727ca33-640f-41c0-8577-ebfbd8f8bfb3",
   "metadata": {},
   "outputs": [],
   "source": [
    "# 预处理和提取特征\n",
    "test_data_preprocessed = []\n",
    "test_features = []\n",
    "for i in range(test_data.shape[0]):\n",
    "    img = test_data[i]\n",
    "    thresh, features = preprocess_feature(img)\n",
    "    test_data_preprocessed.append(thresh)\n",
    "    test_features.append(features)\n",
    "test_data_preprocessed = np.array(test_data_preprocessed)\n",
    "test_features = np.concatenate(test_features)\n"
   ]
  },
  {
   "cell_type": "code",
   "execution_count": null,
   "id": "21d023ef-57a0-4f56-b41a-8b911cbaa9cf",
   "metadata": {},
   "outputs": [],
   "source": [
    "# 训练和评估模型\n",
    "y_pred, report = train_and_evaluate(train_data, train_label, test_features, test_filenames)\n",
    "print(report)"
   ]
  }
 ],
 "metadata": {
  "kernelspec": {
   "display_name": "Python 3 (ipykernel)",
   "language": "python",
   "name": "python3"
  },
  "language_info": {
   "codemirror_mode": {
    "name": "ipython",
    "version": 3
   },
   "file_extension": ".py",
   "mimetype": "text/x-python",
   "name": "python",
   "nbconvert_exporter": "python",
   "pygments_lexer": "ipython3",
   "version": "3.11.5"
  }
 },
 "nbformat": 4,
 "nbformat_minor": 5
}
