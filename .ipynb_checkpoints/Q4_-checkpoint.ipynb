{
 "cells": [
  {
   "cell_type": "markdown",
   "id": "8682047a-41ee-455a-aafd-7a58f8480f0b",
   "metadata": {
    "tags": []
   },
   "source": [
    "# 一.导入需要的库"
   ]
  },
  {
   "cell_type": "code",
   "execution_count": null,
   "id": "fec0c703-34ef-4ac5-a6b4-cee87bc3627a",
   "metadata": {},
   "outputs": [],
   "source": [
    "import cv2\n",
    "import numpy as np\n",
    "import pandas as pd\n",
    "from keras.models import load_model"
   ]
  },
  {
   "cell_type": "markdown",
   "id": "f811b817-997c-4e20-8f2f-6792f07b4a8e",
   "metadata": {
    "tags": []
   },
   "source": [
    "# 二.加载训练好的甲骨文图像分割模型"
   ]
  },
  {
   "cell_type": "code",
   "execution_count": null,
   "id": "61361303-016b-4b5b-8b24-b6b4c2bd3768",
   "metadata": {},
   "outputs": [],
   "source": [
    "model = load_model('甲骨文图像分割模型.h5')"
   ]
  },
  {
   "cell_type": "markdown",
   "id": "9dc69e2e-42fe-47e6-9159-9f548282464c",
   "metadata": {
    "tags": []
   },
   "source": [
    "# 三.加载甲骨文文字形的训练集"
   ]
  },
  {
   "cell_type": "code",
   "execution_count": null,
   "id": "72a652df-f83f-4496-9f2a-9134873ffbb1",
   "metadata": {},
   "outputs": [],
   "source": [
    "train_data = pd.read_csv('甲骨文文字形.csv')"
   ]
  },
  {
   "cell_type": "markdown",
   "id": "432d0299-f824-4a9d-8a0e-8326f27d7ec0",
   "metadata": {
    "tags": []
   },
   "source": [
    "# 四.定义一个函数用于对甲骨文图像进行预处理"
   ]
  },
  {
   "cell_type": "code",
   "execution_count": null,
   "id": "c0896af8-4e03-47bd-ab18-e0f07231004c",
   "metadata": {},
   "outputs": [],
   "source": [
    "def preprocess(image):\n",
    "    # 将图像转为灰度图\n",
    "    gray = cv2.cvtColor(image, cv2.COLOR_BGR2GRAY)\n",
    "    # 对图像进行二值化处理\n",
    "    ret, thresh = cv2.threshold(gray, 0, 255, cv2.THRESH_BINARY)\n",
    "    # 对二值化图像进行腐蚀操作，去除图像中的噪声\n",
    "    kernel = np.ones((3,3),np.uint8)\n",
    "    eroded = cv2.erode(thresh,kernel,iterations = 1)\n",
    "    # 对腐蚀后的图像进行闭运算，填补图像中的空洞\n",
    "    kernel = np.ones((3,3),np.uint8)\n",
    "    closed = cv2.morphologyEx(eroded, cv2.MORPH_CLOSE, kernel)\n",
    "    # 对闭运算后的图像进行开运算，去除图像中的小细节\n",
    "    kernel = np.ones((5,5),np.uint8)\n",
    "    opened = cv2.morphologyEx(closed, cv2.MORPH_OPEN, kernel)\n",
    "    # 返回预处理后的图像\n",
    "    return opened\n"
   ]
  },
  {
   "cell_type": "markdown",
   "id": "94402381-b231-4f9f-b321-76442a434aec",
   "metadata": {
    "tags": []
   },
   "source": [
    "# 五.定义一个函数用于对甲骨文图像进行单字分割"
   ]
  },
  {
   "cell_type": "code",
   "execution_count": null,
   "id": "191422bf-80e3-4dcb-a5a1-c25c22c5dc35",
   "metadata": {},
   "outputs": [],
   "source": [
    "def segment(image):\n",
    "    # 对图像进行预处理\n",
    "    image = preprocess(image)\n",
    "    # 将图像转为灰度图\n",
    "    gray = cv2.cvtColor(image, cv2.COLOR_BGR2GRAY)\n",
    "    # 对图像进行二值化处理\n",
    "    ret, thresh = cv2.threshold(gray, 0, 255, cv2.THRESH_BINARY)\n",
    "    # 使用甲骨文图像分割模型进行分割\n",
    "    segments = model.predict(thresh.reshape(1, 64, 64, 1))\n",
    "    # 将分割结果转为二值化图像\n",
    "    segments[segments < 0.5] = 0\n",
    "    segments[segments >= 0.5] = 1\n",
    "    # 根据分割结果进行图像分割\n",
    "    result = cv2.bitwise_and(thresh, thresh, mask=segments.reshape(64, 64))\n",
    "    # 返回分割后的图像\n",
    "    return result"
   ]
  },
  {
   "cell_type": "markdown",
   "id": "9f8d1c1e-b83e-45d6-87f1-d092873162ef",
   "metadata": {
    "tags": []
   },
   "source": [
    "# 六.定义一个函数用于识别甲骨文文字"
   ]
  },
  {
   "cell_type": "code",
   "execution_count": null,
   "id": "ccf3e6ec-3d43-4458-a89a-c7d013c856ab",
   "metadata": {},
   "outputs": [],
   "source": [
    "def recognize(image):\n",
    "    # 对图像进行单字分割\n",
    "    result = segment(image)\n",
    "    # 将分割后的图像转为灰度图\n",
    "    gray = cv2.cvtColor(result, cv2.COLOR_BGR2GRAY)\n",
    "    # 将灰度图像转为数组\n",
    "    data = np.array(gray).reshape(64, 64, 1)\n",
    "    # 使用训练好的模型进行预测\n",
    "    prediction = model.predict(data.reshape(1, 64, 64, 1))\n",
    "    # 将预测结果转为字母\n",
    "    result = train_data['label'][np.argmax(prediction)]\n",
    "    # 返回识别结果\n",
    "    return result"
   ]
  },
  {
   "cell_type": "markdown",
   "id": "b4c55ec1-0c24-4a59-a87f-c42ff54501a3",
   "metadata": {
    "tags": []
   },
   "source": [
    "# 七.定义一个函数用于识别测试集中的图像"
   ]
  },
  {
   "cell_type": "code",
   "execution_count": null,
   "id": "2b7846d9-a92c-4474-8164-4dd3d3df20fd",
   "metadata": {},
   "outputs": [],
   "source": [
    "def recognize_test(image):\n",
    "    # 对图像进行单字分割\n",
    "    result = segment(image)\n",
    "    # 将分割后的图像转为灰度图\n",
    "    gray = cv2.cvtColor(result, cv2.COLOR_BGR2GRAY)\n",
    "    # 将灰度图像转为数组\n",
    "    data = np.array(gray).reshape(64, 64, 1)\n",
    "    # 使用训练好的模型进行预测\n",
    "    prediction = model.predict(data.reshape(1, 64, 64, 1))\n",
    "    # 将预测结果转为字母\n",
    "    result = train_data['label'][np.argmax(prediction)]\n",
    "    # 返回识别结果\n",
    "    return result\n"
   ]
  },
  {
   "cell_type": "markdown",
   "id": "b0780941-070f-475d-ab0a-34d99df1d1fe",
   "metadata": {
    "tags": []
   },
   "source": [
    "# 八.对测试集中的图像进行识别"
   ]
  },
  {
   "cell_type": "code",
   "execution_count": null,
   "id": "7916ff2e-30ce-4c54-b3e8-0d028c3d1af2",
   "metadata": {},
   "outputs": [],
   "source": [
    "test_results = pd.DataFrame(columns=['img_name', 'recognize_result'])\n",
    "for i in range(1, 51):\n",
    "    # 读取图像\n",
    "    image = cv2.imread('Test/' + str(i) + '.jpg')\n",
    "    # 对图像进行识别\n",
    "    result = recognize_test(image)\n",
    "    # 添加识别结果到test_results中\n",
    "    test_results = test_results.append({'img_name': str(i), 'recognize_result': result}, ignore_index=True)"
   ]
  },
  {
   "cell_type": "markdown",
   "id": "292b9578-bdc2-456a-9db2-26b5ee892c19",
   "metadata": {
    "tags": []
   },
   "source": [
    "# 九.将识别结果保存到Excel中"
   ]
  },
  {
   "cell_type": "code",
   "execution_count": null,
   "id": "df7d3c1c-4e77-4a66-aa6e-8aa5b1155fb6",
   "metadata": {},
   "outputs": [],
   "source": [
    "test_results.to_excel('Test_results.xlsx', index=False)"
   ]
  }
 ],
 "metadata": {
  "kernelspec": {
   "display_name": "Python 3 (ipykernel)",
   "language": "python",
   "name": "python3"
  },
  "language_info": {
   "codemirror_mode": {
    "name": "ipython",
    "version": 3
   },
   "file_extension": ".py",
   "mimetype": "text/x-python",
   "name": "python",
   "nbconvert_exporter": "python",
   "pygments_lexer": "ipython3",
   "version": "3.11.5"
  }
 },
 "nbformat": 4,
 "nbformat_minor": 5
}
